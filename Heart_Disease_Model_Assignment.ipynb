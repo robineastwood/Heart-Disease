{
 "cells": [
  {
   "cell_type": "markdown",
   "metadata": {},
   "source": [
    "## Summary\n",
    "This notebook builds on the exploratory data analysis conducted previously, and experiments with multiple machine learning models in an attempt to maximize accuracy. The models we apply will be from the Scikit-Learn library.\n",
    "\n",
    "The original dataset and an explanation of each of the features is available on Kaggle [here](https://www.kaggle.com/ronitf/heart-disease-uci)."
   ]
  },
  {
   "cell_type": "code",
   "execution_count": 397,
   "metadata": {},
   "outputs": [],
   "source": [
    "import pandas as pd\n",
    "import numpy as np\n",
    "import matplotlib.pyplot as plt\n",
    "from sklearn.linear_model import LogisticRegression\n",
    "from sklearn.model_selection import train_test_split\n",
    "from sklearn.metrics import accuracy_score\n",
    "from sklearn.metrics import classification_report\n",
    "from sklearn.metrics import confusion_matrix\n",
    "from sklearn.neighbors import KNeighborsClassifier\n",
    "from sklearn.tree import DecisionTreeClassifier\n",
    "from sklearn import svm\n",
    "from sklearn.naive_bayes import GaussianNB\n",
    "from sklearn.ensemble import RandomForestClassifier\n",
    "\n",
    "heart_data = pd.read_csv('heart.csv')"
   ]
  },
  {
   "cell_type": "markdown",
   "metadata": {},
   "source": [
    "We'll repeat the data cleaning steps we took in our EDA notebook:\n"
   ]
  },
  {
   "cell_type": "code",
   "execution_count": 398,
   "metadata": {},
   "outputs": [],
   "source": [
    "heart_data = heart_data.drop([85, 92, 158, 163, 164, 251], axis=0)"
   ]
  },
  {
   "cell_type": "code",
   "execution_count": 399,
   "metadata": {},
   "outputs": [
    {
     "data": {
      "text/plain": [
       "(297, 14)"
      ]
     },
     "execution_count": 399,
     "metadata": {},
     "output_type": "execute_result"
    }
   ],
   "source": [
    "heart_data.shape"
   ]
  },
  {
   "cell_type": "markdown",
   "metadata": {},
   "source": [
    "## Logistic Regression\n",
    "Since we're predicting a classification label, an obvious model choice to start with is Logistic Regression. First, let's assign our X and y. We'll also assign a random state variable to maintain consistency as we run our code repeatedly."
   ]
  },
  {
   "cell_type": "code",
   "execution_count": 400,
   "metadata": {},
   "outputs": [],
   "source": [
    "X = heart_data.drop(columns=['target'])\n",
    "y = heart_data['target']\n",
    "r_state = 42"
   ]
  },
  {
   "cell_type": "markdown",
   "metadata": {},
   "source": [
    "We'll use the train_test_split function from scikit-learn and set our test size to 30%."
   ]
  },
  {
   "cell_type": "code",
   "execution_count": 401,
   "metadata": {},
   "outputs": [],
   "source": [
    "X_train, X_test, y_train, y_test = train_test_split(X, y, test_size=0.3, random_state=r_state)"
   ]
  },
  {
   "cell_type": "markdown",
   "metadata": {},
   "source": [
    "Let's check the size of X_train to ensure that it took 70% of our rows, as well as the shape of X_test. Together, the number of rows should sum to 297, the shape of our original data set after cleaning."
   ]
  },
  {
   "cell_type": "code",
   "execution_count": 402,
   "metadata": {},
   "outputs": [
    {
     "data": {
      "text/plain": [
       "(207, 13)"
      ]
     },
     "execution_count": 402,
     "metadata": {},
     "output_type": "execute_result"
    }
   ],
   "source": [
    "X_train.shape"
   ]
  },
  {
   "cell_type": "code",
   "execution_count": 403,
   "metadata": {},
   "outputs": [
    {
     "data": {
      "text/plain": [
       "(90, 13)"
      ]
     },
     "execution_count": 403,
     "metadata": {},
     "output_type": "execute_result"
    }
   ],
   "source": [
    "X_test.shape"
   ]
  },
  {
   "cell_type": "markdown",
   "metadata": {},
   "source": [
    "## Model 1\n",
    "Next, we'll create and fit our Logistic Regression model:"
   ]
  },
  {
   "cell_type": "code",
   "execution_count": 404,
   "metadata": {},
   "outputs": [
    {
     "name": "stderr",
     "output_type": "stream",
     "text": [
      "/Users/robineastwood/opt/anaconda3/lib/python3.7/site-packages/sklearn/linear_model/logistic.py:432: FutureWarning: Default solver will be changed to 'lbfgs' in 0.22. Specify a solver to silence this warning.\n",
      "  FutureWarning)\n"
     ]
    },
    {
     "data": {
      "text/plain": [
       "LogisticRegression(C=1.0, class_weight=None, dual=False, fit_intercept=True,\n",
       "                   intercept_scaling=1, l1_ratio=None, max_iter=100,\n",
       "                   multi_class='warn', n_jobs=None, penalty='l2',\n",
       "                   random_state=42, solver='warn', tol=0.0001, verbose=0,\n",
       "                   warm_start=False)"
      ]
     },
     "execution_count": 404,
     "metadata": {},
     "output_type": "execute_result"
    }
   ],
   "source": [
    "my_model = LogisticRegression(random_state=r_state)\n",
    "my_model.fit(X_train, y_train)"
   ]
  },
  {
   "cell_type": "markdown",
   "metadata": {},
   "source": [
    "Now that our model has been trained on the data, we'll predict the labels of our test set. The variable we create, y_pred, will hold an array of 90 categorical labels (0 or 1)."
   ]
  },
  {
   "cell_type": "code",
   "execution_count": 405,
   "metadata": {},
   "outputs": [
    {
     "data": {
      "text/plain": [
       "array([1, 0, 1, 1, 1, 1, 0, 1, 1, 1, 0, 1, 1, 1, 0, 0, 0, 0, 0, 0, 0, 1,\n",
       "       1, 1, 0, 0, 0, 0, 1, 0, 1, 0, 1, 1, 1, 1, 1, 1, 0, 1, 1, 1, 0, 1,\n",
       "       1, 0, 0, 0, 0, 1, 0, 0, 0, 1, 0, 0, 1, 0, 1, 0, 0, 0, 1, 1, 1, 1,\n",
       "       1, 0, 0, 0, 1, 1, 1, 1, 1, 1, 1, 1, 1, 1, 0, 1, 0, 0, 1, 1, 1, 0,\n",
       "       1, 1])"
      ]
     },
     "execution_count": 405,
     "metadata": {},
     "output_type": "execute_result"
    }
   ],
   "source": [
    "y_pred = my_model.predict(X_test)\n",
    "y_pred"
   ]
  },
  {
   "cell_type": "markdown",
   "metadata": {},
   "source": [
    "Let's evaluate our model using accuracy, which is the most straightforward measure of success and a good place to start. We'll use scikit-learn's .score() function and compare our test labels and our model's prediction labels."
   ]
  },
  {
   "cell_type": "code",
   "execution_count": 406,
   "metadata": {},
   "outputs": [
    {
     "data": {
      "text/plain": [
       "0.8444444444444444"
      ]
     },
     "execution_count": 406,
     "metadata": {},
     "output_type": "execute_result"
    }
   ],
   "source": [
    "my_model_score = my_model.score(X_test, y_test)\n",
    "my_model_score"
   ]
  },
  {
   "cell_type": "markdown",
   "metadata": {},
   "source": [
    "Not bad. Without any additional feature engineering, we can predict with about 84% accuracy whether or not a subject will have heart disease given a set of features."
   ]
  },
  {
   "cell_type": "markdown",
   "metadata": {},
   "source": [
    "## Model 2\n",
    "Let's try running our model again but only using the feature columns that have at least a +/-0.3 correlation with our target. Based on the .corr() we did in our EDA notebook, that would be:\n",
    "- cp\n",
    "- thalach\n",
    "- exang\n",
    "- oldpeak\n",
    "- slope\n",
    "- ca\n",
    "- thal"
   ]
  },
  {
   "cell_type": "code",
   "execution_count": 407,
   "metadata": {},
   "outputs": [
    {
     "name": "stderr",
     "output_type": "stream",
     "text": [
      "/Users/robineastwood/opt/anaconda3/lib/python3.7/site-packages/sklearn/linear_model/logistic.py:432: FutureWarning: Default solver will be changed to 'lbfgs' in 0.22. Specify a solver to silence this warning.\n",
      "  FutureWarning)\n"
     ]
    },
    {
     "data": {
      "text/plain": [
       "0.8666666666666667"
      ]
     },
     "execution_count": 407,
     "metadata": {},
     "output_type": "execute_result"
    }
   ],
   "source": [
    "subset_features = ['cp', 'thalach', 'exang', 'oldpeak', 'slope', 'ca', 'thal']\n",
    "X = heart_data[subset_features]\n",
    "# our y variable will not change.\n",
    "X_train, X_test, y_train, y_test = train_test_split(X, y, test_size=0.3, random_state=r_state)\n",
    "my_model_2 = LogisticRegression(random_state=r_state)\n",
    "my_model_2.fit(X_train, y_train)\n",
    "y_pred = my_model_2.predict(X_test)\n",
    "my_model_2_score = my_model_2.score(X_test, y_test)\n",
    "my_model_2_score"
   ]
  },
  {
   "cell_type": "markdown",
   "metadata": {},
   "source": [
    "So dropping some of the less correlated features improved our accuracy score a little bit, but not dramatically; we achieved 87% accuracy. \n",
    "\n",
    "## Model 3\n",
    "What if we narrow down our features even further, and only use the columns that have at least a +/-0.4 correlation with our target."
   ]
  },
  {
   "cell_type": "code",
   "execution_count": 408,
   "metadata": {},
   "outputs": [
    {
     "name": "stderr",
     "output_type": "stream",
     "text": [
      "/Users/robineastwood/opt/anaconda3/lib/python3.7/site-packages/sklearn/linear_model/logistic.py:432: FutureWarning: Default solver will be changed to 'lbfgs' in 0.22. Specify a solver to silence this warning.\n",
      "  FutureWarning)\n"
     ]
    },
    {
     "data": {
      "text/plain": [
       "0.7777777777777778"
      ]
     },
     "execution_count": 408,
     "metadata": {},
     "output_type": "execute_result"
    }
   ],
   "source": [
    "subset_features = ['cp', 'exang', 'oldpeak', 'ca']\n",
    "X = heart_data[subset_features]\n",
    "# our y variable will not change.\n",
    "X_train, X_test, y_train, y_test = train_test_split(X, y, test_size=0.3, random_state=r_state)\n",
    "my_model_3 = LogisticRegression(random_state=r_state)\n",
    "my_model_3.fit(X_train, y_train)\n",
    "y_pred = my_model_3.predict(X_test)\n",
    "my_model_3_score = my_model_3.score(X_test, y_test)\n",
    "my_model_3_score"
   ]
  },
  {
   "cell_type": "markdown",
   "metadata": {},
   "source": [
    "That made our accuracy score decrease to 78%! We are eliminating too much feature data now. Let's try some other methods.\n",
    "\n",
    "## Model 4\n",
    "I'd like to see what happens when we apply one-hot encoding to our categorical features. Since they're not scaled/ranked measurements, I think it's possible that the model is misinterpretting their meaning. We'll use the pandas function .get_dummies() applied to our categorical features."
   ]
  },
  {
   "cell_type": "code",
   "execution_count": 409,
   "metadata": {},
   "outputs": [
    {
     "data": {
      "text/html": [
       "<div>\n",
       "<style scoped>\n",
       "    .dataframe tbody tr th:only-of-type {\n",
       "        vertical-align: middle;\n",
       "    }\n",
       "\n",
       "    .dataframe tbody tr th {\n",
       "        vertical-align: top;\n",
       "    }\n",
       "\n",
       "    .dataframe thead th {\n",
       "        text-align: right;\n",
       "    }\n",
       "</style>\n",
       "<table border=\"1\" class=\"dataframe\">\n",
       "  <thead>\n",
       "    <tr style=\"text-align: right;\">\n",
       "      <th></th>\n",
       "      <th>age</th>\n",
       "      <th>trestbps</th>\n",
       "      <th>chol</th>\n",
       "      <th>thalach</th>\n",
       "      <th>oldpeak</th>\n",
       "      <th>target</th>\n",
       "      <th>sex_0</th>\n",
       "      <th>sex_1</th>\n",
       "      <th>cp_0</th>\n",
       "      <th>cp_1</th>\n",
       "      <th>...</th>\n",
       "      <th>slope_1</th>\n",
       "      <th>slope_2</th>\n",
       "      <th>ca_0</th>\n",
       "      <th>ca_1</th>\n",
       "      <th>ca_2</th>\n",
       "      <th>ca_3</th>\n",
       "      <th>thal_0</th>\n",
       "      <th>thal_1</th>\n",
       "      <th>thal_2</th>\n",
       "      <th>thal_3</th>\n",
       "    </tr>\n",
       "  </thead>\n",
       "  <tbody>\n",
       "    <tr>\n",
       "      <td>0</td>\n",
       "      <td>63</td>\n",
       "      <td>145</td>\n",
       "      <td>233</td>\n",
       "      <td>150</td>\n",
       "      <td>2.3</td>\n",
       "      <td>1</td>\n",
       "      <td>0</td>\n",
       "      <td>1</td>\n",
       "      <td>0</td>\n",
       "      <td>0</td>\n",
       "      <td>...</td>\n",
       "      <td>0</td>\n",
       "      <td>0</td>\n",
       "      <td>1</td>\n",
       "      <td>0</td>\n",
       "      <td>0</td>\n",
       "      <td>0</td>\n",
       "      <td>0</td>\n",
       "      <td>1</td>\n",
       "      <td>0</td>\n",
       "      <td>0</td>\n",
       "    </tr>\n",
       "    <tr>\n",
       "      <td>1</td>\n",
       "      <td>37</td>\n",
       "      <td>130</td>\n",
       "      <td>250</td>\n",
       "      <td>187</td>\n",
       "      <td>3.5</td>\n",
       "      <td>1</td>\n",
       "      <td>0</td>\n",
       "      <td>1</td>\n",
       "      <td>0</td>\n",
       "      <td>0</td>\n",
       "      <td>...</td>\n",
       "      <td>0</td>\n",
       "      <td>0</td>\n",
       "      <td>1</td>\n",
       "      <td>0</td>\n",
       "      <td>0</td>\n",
       "      <td>0</td>\n",
       "      <td>0</td>\n",
       "      <td>0</td>\n",
       "      <td>1</td>\n",
       "      <td>0</td>\n",
       "    </tr>\n",
       "    <tr>\n",
       "      <td>2</td>\n",
       "      <td>41</td>\n",
       "      <td>130</td>\n",
       "      <td>204</td>\n",
       "      <td>172</td>\n",
       "      <td>1.4</td>\n",
       "      <td>1</td>\n",
       "      <td>1</td>\n",
       "      <td>0</td>\n",
       "      <td>0</td>\n",
       "      <td>1</td>\n",
       "      <td>...</td>\n",
       "      <td>0</td>\n",
       "      <td>1</td>\n",
       "      <td>1</td>\n",
       "      <td>0</td>\n",
       "      <td>0</td>\n",
       "      <td>0</td>\n",
       "      <td>0</td>\n",
       "      <td>0</td>\n",
       "      <td>1</td>\n",
       "      <td>0</td>\n",
       "    </tr>\n",
       "    <tr>\n",
       "      <td>3</td>\n",
       "      <td>56</td>\n",
       "      <td>120</td>\n",
       "      <td>236</td>\n",
       "      <td>178</td>\n",
       "      <td>0.8</td>\n",
       "      <td>1</td>\n",
       "      <td>0</td>\n",
       "      <td>1</td>\n",
       "      <td>0</td>\n",
       "      <td>1</td>\n",
       "      <td>...</td>\n",
       "      <td>0</td>\n",
       "      <td>1</td>\n",
       "      <td>1</td>\n",
       "      <td>0</td>\n",
       "      <td>0</td>\n",
       "      <td>0</td>\n",
       "      <td>0</td>\n",
       "      <td>0</td>\n",
       "      <td>1</td>\n",
       "      <td>0</td>\n",
       "    </tr>\n",
       "    <tr>\n",
       "      <td>4</td>\n",
       "      <td>57</td>\n",
       "      <td>120</td>\n",
       "      <td>354</td>\n",
       "      <td>163</td>\n",
       "      <td>0.6</td>\n",
       "      <td>1</td>\n",
       "      <td>1</td>\n",
       "      <td>0</td>\n",
       "      <td>1</td>\n",
       "      <td>0</td>\n",
       "      <td>...</td>\n",
       "      <td>0</td>\n",
       "      <td>1</td>\n",
       "      <td>1</td>\n",
       "      <td>0</td>\n",
       "      <td>0</td>\n",
       "      <td>0</td>\n",
       "      <td>0</td>\n",
       "      <td>0</td>\n",
       "      <td>1</td>\n",
       "      <td>0</td>\n",
       "    </tr>\n",
       "  </tbody>\n",
       "</table>\n",
       "<p>5 rows × 30 columns</p>\n",
       "</div>"
      ],
      "text/plain": [
       "   age  trestbps  chol  thalach  oldpeak  target  sex_0  sex_1  cp_0  cp_1  \\\n",
       "0   63       145   233      150      2.3       1      0      1     0     0   \n",
       "1   37       130   250      187      3.5       1      0      1     0     0   \n",
       "2   41       130   204      172      1.4       1      1      0     0     1   \n",
       "3   56       120   236      178      0.8       1      0      1     0     1   \n",
       "4   57       120   354      163      0.6       1      1      0     1     0   \n",
       "\n",
       "   ...  slope_1  slope_2  ca_0  ca_1  ca_2  ca_3  thal_0  thal_1  thal_2  \\\n",
       "0  ...        0        0     1     0     0     0       0       1       0   \n",
       "1  ...        0        0     1     0     0     0       0       0       1   \n",
       "2  ...        0        1     1     0     0     0       0       0       1   \n",
       "3  ...        0        1     1     0     0     0       0       0       1   \n",
       "4  ...        0        1     1     0     0     0       0       0       1   \n",
       "\n",
       "   thal_3  \n",
       "0       0  \n",
       "1       0  \n",
       "2       0  \n",
       "3       0  \n",
       "4       0  \n",
       "\n",
       "[5 rows x 30 columns]"
      ]
     },
     "execution_count": 409,
     "metadata": {},
     "output_type": "execute_result"
    }
   ],
   "source": [
    "dummied_data = pd.get_dummies(heart_data, columns = \n",
    "                              ['sex', 'cp', 'fbs', 'restecg', 'exang', 'slope', 'ca', 'thal'])\n",
    "dummied_data.head()"
   ]
  },
  {
   "cell_type": "markdown",
   "metadata": {},
   "source": [
    "This creates many more columns than we had before, since each previous column is expanded to the number of categories it includes. We now have 31 columns of data. Let's run our Logistic Regression model again using our dummied data."
   ]
  },
  {
   "cell_type": "code",
   "execution_count": 410,
   "metadata": {},
   "outputs": [
    {
     "name": "stderr",
     "output_type": "stream",
     "text": [
      "/Users/robineastwood/opt/anaconda3/lib/python3.7/site-packages/sklearn/linear_model/logistic.py:432: FutureWarning: Default solver will be changed to 'lbfgs' in 0.22. Specify a solver to silence this warning.\n",
      "  FutureWarning)\n"
     ]
    },
    {
     "data": {
      "text/plain": [
       "0.8444444444444444"
      ]
     },
     "execution_count": 410,
     "metadata": {},
     "output_type": "execute_result"
    }
   ],
   "source": [
    "X = dummied_data.drop(columns=['target'])\n",
    "# our y variable will not change.\n",
    "X_train, X_test, y_train, y_test = train_test_split(X, y, test_size=0.3, random_state=r_state)\n",
    "my_model_4 = LogisticRegression(random_state=r_state)\n",
    "my_model_4.fit(X_train, y_train)\n",
    "y_pred = my_model_4.predict(X_test)\n",
    "my_model_4_score = my_model_4.score(X_test, y_test)\n",
    "my_model_4_score"
   ]
  },
  {
   "cell_type": "markdown",
   "metadata": {},
   "source": [
    "Wow! Model 4 gives us the exact same accuracy measure as Model 1: 84%.\n",
    "\n",
    "## Model 5\n",
    "What if we continue with one-hot encoding, but only utilize the features that have +/-0.3 correlation coefficients, as we did in Model 2."
   ]
  },
  {
   "cell_type": "code",
   "execution_count": 411,
   "metadata": {},
   "outputs": [
    {
     "name": "stderr",
     "output_type": "stream",
     "text": [
      "/Users/robineastwood/opt/anaconda3/lib/python3.7/site-packages/sklearn/linear_model/logistic.py:432: FutureWarning: Default solver will be changed to 'lbfgs' in 0.22. Specify a solver to silence this warning.\n",
      "  FutureWarning)\n"
     ]
    },
    {
     "data": {
      "text/plain": [
       "0.8666666666666667"
      ]
     },
     "execution_count": 411,
     "metadata": {},
     "output_type": "execute_result"
    }
   ],
   "source": [
    "dummied_data = pd.get_dummies(heart_data, columns = \n",
    "                              ['cp', 'exang', 'slope', 'ca', 'thal'])\n",
    "dummied_data = dummied_data.drop(columns=['age', 'sex', 'trestbps', 'chol', 'fbs', 'restecg', 'target'])\n",
    "X = dummied_data\n",
    "# our y variable will not change.\n",
    "X_train, X_test, y_train, y_test = train_test_split(X, y, test_size=0.3, random_state=r_state)\n",
    "my_model_5 = LogisticRegression(random_state=r_state)\n",
    "my_model_5.fit(X_train, y_train)\n",
    "y_pred = my_model_5.predict(X_test)\n",
    "my_model_5_score = my_model_5.score(X_test, y_test)\n",
    "my_model_5_score"
   ]
  },
  {
   "cell_type": "markdown",
   "metadata": {},
   "source": [
    "And Model 5 gives us the exact same accuracy measure as Model 2, at 87%! I think it's safe to say that one-hot encoding has no influence on this data set when using a Logistic Regression model.\n",
    "\n",
    "## Nearest Neighbors\n",
    "Let's try a machine learning model other than Logistic Regression next. Scikit Learn has a Nearest Neighbors Classification model. As a baseline, we'll use our full data set, without applying one-hot encoding.\n",
    "\n",
    "## Model 6"
   ]
  },
  {
   "cell_type": "code",
   "execution_count": 412,
   "metadata": {},
   "outputs": [
    {
     "data": {
      "text/plain": [
       "0.6888888888888889"
      ]
     },
     "execution_count": 412,
     "metadata": {},
     "output_type": "execute_result"
    }
   ],
   "source": [
    "X = heart_data.drop(columns=['target'])\n",
    "# our y variable will not change.\n",
    "X_train, X_test, y_train, y_test = train_test_split(X, y, test_size=0.3, random_state=r_state)\n",
    "my_model_6 = KNeighborsClassifier(n_neighbors=15)\n",
    "my_model_6.fit(X_train, y_train)\n",
    "y_pred = my_model_6.predict(X_test)\n",
    "my_model_6_score = my_model_6.score(X_test, y_test)\n",
    "my_model_6_score"
   ]
  },
  {
   "cell_type": "markdown",
   "metadata": {},
   "source": [
    "I did a quick experiment with the number of n_neighbors to use, and 15 seems to give us the best result at 69% accuracy, which still isn't very good.\n",
    "\n",
    "## Model 7\n",
    "Let's try the KNN model after applying one-hot encoding."
   ]
  },
  {
   "cell_type": "code",
   "execution_count": 413,
   "metadata": {},
   "outputs": [
    {
     "data": {
      "text/plain": [
       "0.6888888888888889"
      ]
     },
     "execution_count": 413,
     "metadata": {},
     "output_type": "execute_result"
    }
   ],
   "source": [
    "dummied_data = pd.get_dummies(heart_data, columns = \n",
    "                              ['sex', 'cp', 'fbs', 'restecg', 'exang', 'slope', 'ca', 'thal'])\n",
    "X = dummied_data.drop(columns=['target'])\n",
    "# our y variable will not change.\n",
    "X_train, X_test, y_train, y_test = train_test_split(X, y, test_size=0.3, random_state=r_state)\n",
    "my_model_7 = KNeighborsClassifier(n_neighbors=15)\n",
    "my_model_7.fit(X_train, y_train)\n",
    "y_pred = my_model_7.predict(X_test)\n",
    "my_model_7_score = my_model_7.score(X_test, y_test)\n",
    "my_model_7_score"
   ]
  },
  {
   "cell_type": "markdown",
   "metadata": {},
   "source": [
    "Evidently one-hot encoding doesn't have any effect when utilizing the KNN model either; we've again achieved an accuracy score of 69%."
   ]
  },
  {
   "cell_type": "markdown",
   "metadata": {},
   "source": [
    "## Decision Tree\n",
    "Scikit Learn also has a Decision Tree Classification model. As a baseline, we'll again use our full data set, without applying one-hot encoding.\n",
    "\n",
    "## Model 8\n"
   ]
  },
  {
   "cell_type": "code",
   "execution_count": 414,
   "metadata": {},
   "outputs": [
    {
     "data": {
      "text/plain": [
       "0.7444444444444445"
      ]
     },
     "execution_count": 414,
     "metadata": {},
     "output_type": "execute_result"
    }
   ],
   "source": [
    "X = heart_data.drop(columns=['target'])\n",
    "# our y variable will not change.\n",
    "X_train, X_test, y_train, y_test = train_test_split(X, y, test_size=0.3, random_state=r_state)\n",
    "my_model_8 = DecisionTreeClassifier(random_state=r_state)\n",
    "my_model_8.fit(X_train, y_train)\n",
    "y_pred = my_model_8.predict(X_test)\n",
    "my_model_8_score = my_model_8.score(X_test, y_test)\n",
    "my_model_8_score"
   ]
  },
  {
   "cell_type": "markdown",
   "metadata": {},
   "source": [
    "The decision tree model gives us an accuracy score of about 74%, which is still far below our earlier logistic regression model."
   ]
  },
  {
   "cell_type": "markdown",
   "metadata": {},
   "source": [
    "## Support Vector Machine\n",
    "\n",
    "## Model 9\n",
    "Our ninth model will explore the Support Vector Machine model in the Scikit-Learn library."
   ]
  },
  {
   "cell_type": "code",
   "execution_count": 415,
   "metadata": {},
   "outputs": [
    {
     "data": {
      "text/plain": [
       "0.8222222222222222"
      ]
     },
     "execution_count": 415,
     "metadata": {},
     "output_type": "execute_result"
    }
   ],
   "source": [
    "X = heart_data.drop(columns=['target'])\n",
    "# our y variable will not change.\n",
    "X_train, X_test, y_train, y_test = train_test_split(X, y, test_size=0.3, random_state=r_state)\n",
    "my_model_9 = svm.SVC(kernel='linear')\n",
    "my_model_9.fit(X_train, y_train)\n",
    "y_pred = my_model_9.predict(X_test)\n",
    "my_model_9_score = my_model_9.score(X_test, y_test)\n",
    "my_model_9_score"
   ]
  },
  {
   "cell_type": "markdown",
   "metadata": {},
   "source": [
    "Well, at least our accuracy score has crept back into the 80-something percentile, more in range with our initial logistic regression model.\n",
    "\n",
    "## Gaussian Naive Bayes\n",
    "## Model 10\n",
    "Our tenth model will use the Gaussian Naive Bayes model."
   ]
  },
  {
   "cell_type": "code",
   "execution_count": 416,
   "metadata": {},
   "outputs": [
    {
     "data": {
      "text/plain": [
       "0.8"
      ]
     },
     "execution_count": 416,
     "metadata": {},
     "output_type": "execute_result"
    }
   ],
   "source": [
    "X = heart_data.drop(columns=['target'])\n",
    "# our y variable will not change.\n",
    "X_train, X_test, y_train, y_test = train_test_split(X, y, test_size=0.3, random_state=r_state)\n",
    "my_model_10 = GaussianNB()\n",
    "my_model_10.fit(X_train, y_train)\n",
    "y_pred = my_model_10.predict(X_test)\n",
    "my_model_10_score = my_model_10.score(X_test, y_test)\n",
    "my_model_10_score"
   ]
  },
  {
   "cell_type": "markdown",
   "metadata": {},
   "source": [
    "The Gaussian Naive Bayes model has yielded us 80% accuracy.\n",
    "\n",
    "## Random Forest Classifier\n",
    "## Model 11\n",
    "Lastly, we'll build and train a Random Forest Classifier."
   ]
  },
  {
   "cell_type": "code",
   "execution_count": 419,
   "metadata": {},
   "outputs": [
    {
     "name": "stderr",
     "output_type": "stream",
     "text": [
      "/Users/robineastwood/opt/anaconda3/lib/python3.7/site-packages/sklearn/ensemble/forest.py:245: FutureWarning: The default value of n_estimators will change from 10 in version 0.20 to 100 in 0.22.\n",
      "  \"10 in version 0.20 to 100 in 0.22.\", FutureWarning)\n"
     ]
    },
    {
     "data": {
      "text/plain": [
       "0.8222222222222222"
      ]
     },
     "execution_count": 419,
     "metadata": {},
     "output_type": "execute_result"
    }
   ],
   "source": [
    "X = heart_data.drop(columns=['target'])\n",
    "# our y variable will not change.\n",
    "X_train, X_test, y_train, y_test = train_test_split(X, y, test_size=0.3, random_state=r_state)\n",
    "my_model_11 = RandomForestClassifier()\n",
    "my_model_11.fit(X_train, y_train)\n",
    "y_pred = my_model_11.predict(X_test)\n",
    "my_model_11_score = my_model_11.score(X_test, y_test)\n",
    "my_model_11_score"
   ]
  },
  {
   "cell_type": "markdown",
   "metadata": {},
   "source": [
    "An accuracy score of 82% rounds out our experimental models.\n",
    "\n",
    "## Review and Summary\n",
    "Let's take a moment to visualize the accuracy scores of the many models we've built. First we'll create a pandas dataframe of the accuracy scores so that we can pass that data into our plotting tools."
   ]
  },
  {
   "cell_type": "code",
   "execution_count": 330,
   "metadata": {},
   "outputs": [],
   "source": [
    "accuracy_score_df = pd.DataFrame(\n",
    "    {\n",
    "    'Model 1': [my_model_score], \n",
    "    'Model 2': [my_model_2_score], \n",
    "    'Model 3': [my_model_3_score],\n",
    "    'Model 4': [my_model_4_score],\n",
    "    'Model 5': [my_model_5_score],\n",
    "    'Model 6': [my_model_6_score],\n",
    "    'Model 7': [my_model_7_score],\n",
    "    'Model 8': [my_model_8_score],\n",
    "    'Model 9': [my_model_9_score],\n",
    "    'Model 10': [my_model_10_score],\n",
    "    'Model 11': [my_model_11_score]\n",
    "    })"
   ]
  },
  {
   "cell_type": "code",
   "execution_count": 423,
   "metadata": {},
   "outputs": [
    {
     "data": {
      "image/png": "[encoded data removed]",
      "text/plain": [
       "<Figure size 1080x864 with 1 Axes>"
      ]
     },
     "metadata": {
      "needs_background": "light"
     },
     "output_type": "display_data"
    }
   ],
   "source": [
    "fig_dims = (15, 12)\n",
    "fig = plt.subplots(figsize=fig_dims)\n",
    "plt.ylabel('Accuracy Score')\n",
    "plt.title('Accuracy Score by Model')\n",
    "splot = sns.barplot(data=accuracy_score_df)\n",
    "for p in splot.patches:\n",
    "    splot.annotate(format(p.get_height(), '.2f'),\n",
    "                   (p.get_x() + p.get_width() / 2., p.get_height()),\n",
    "                   ha = 'center', va = 'center', \n",
    "                   xytext = (0, 9),\n",
    "                   textcoords = 'offset points')\n",
    "plt.show()"
   ]
  },
  {
   "cell_type": "markdown",
   "metadata": {},
   "source": [
    "As we can see, Models 2 and 5 had the highest accuracy scores (as you'll recall, the scores of these two models were the same, as we used the exact same parameters excepting Model 5 was one-hot encoded). So Logistic Regression was the highest performer for this dataset; 87% accuracy is a decent measure. Let's take model 2 and explore it a little further.\n",
    "\n",
    "Since we've built so many models in this notebook and reused variable names, let's rebuild Model 2 first."
   ]
  },
  {
   "cell_type": "code",
   "execution_count": 332,
   "metadata": {},
   "outputs": [
    {
     "name": "stderr",
     "output_type": "stream",
     "text": [
      "/Users/robineastwood/opt/anaconda3/lib/python3.7/site-packages/sklearn/linear_model/logistic.py:432: FutureWarning: Default solver will be changed to 'lbfgs' in 0.22. Specify a solver to silence this warning.\n",
      "  FutureWarning)\n"
     ]
    }
   ],
   "source": [
    "subset_features = ['cp', 'thalach', 'exang', 'oldpeak', 'slope', 'ca', 'thal']\n",
    "X = heart_data[subset_features]\n",
    "# our y variable will not change.\n",
    "X_train, X_test, y_train, y_test = train_test_split(X, y, test_size=0.3, random_state=r_state)\n",
    "my_model_2 = LogisticRegression(random_state=r_state)\n",
    "my_model_2.fit(X_train, y_train)\n",
    "y_pred = my_model_2.predict(X_test)\n",
    "my_model_2_score = my_model_2.score(X_test, y_test)"
   ]
  },
  {
   "cell_type": "markdown",
   "metadata": {},
   "source": [
    "A classification report will allow us to see our most important metrics:"
   ]
  },
  {
   "cell_type": "code",
   "execution_count": 333,
   "metadata": {},
   "outputs": [
    {
     "name": "stdout",
     "output_type": "stream",
     "text": [
      "                    precision    recall  f1-score   support\n",
      "\n",
      "   0=heart disease       0.88      0.79      0.83        38\n",
      "1=no heart disease       0.86      0.92      0.89        52\n",
      "\n",
      "          accuracy                           0.87        90\n",
      "         macro avg       0.87      0.86      0.86        90\n",
      "      weighted avg       0.87      0.87      0.87        90\n",
      "\n"
     ]
    }
   ],
   "source": [
    "print(classification_report(y_test, y_pred, target_names=('0=heart disease', '1=no heart disease')))"
   ]
  },
  {
   "cell_type": "markdown",
   "metadata": {},
   "source": [
    "Let's break these numbers down.\n",
    "**Precision** tells us what percentage of our predictions were correct, looking at true positives as a percentage of all positives. For target 0 we predicted correctly 88% of the time, for target 1 we predicted correctly 86% of the time.\n",
    "**Recall** tells us the percentage of positive cases we caught. For target 0 we caught 79% of cases, for target 1 we caught 92% of cases. That means we missed 21% of cases where subjects did have heart disease, assigning them a false negative label.\n",
    "The **F1 score** is a formulaic measure of precision and recall together.\n",
    "\n",
    "**Accuracy** is the most straightforward metric and the one we've been primarily evaluating thus far. It is a measure of our correct predictions as a percentage of all predictions made."
   ]
  },
  {
   "cell_type": "markdown",
   "metadata": {},
   "source": [
    "And a confusion matrix will give us a tabular visual on the true/false positives/negatives."
   ]
  },
  {
   "cell_type": "code",
   "execution_count": 335,
   "metadata": {},
   "outputs": [
    {
     "name": "stdout",
     "output_type": "stream",
     "text": [
      "[[30  8]\n",
      " [ 4 48]]\n"
     ]
    }
   ],
   "source": [
    "confusion_matrix = confusion_matrix(y_test, y_pred)\n",
    "print(confusion_matrix)"
   ]
  },
  {
   "cell_type": "markdown",
   "metadata": {},
   "source": [
    "- 30 True Positives\n",
    "- 4 False Negatives\n",
    "- 8 False Positives\n",
    "- 48 True Negatives"
   ]
  },
  {
   "cell_type": "code",
   "execution_count": 382,
   "metadata": {},
   "outputs": [
    {
     "data": {
      "image/png": "[encoded data removed]",
      "text/plain": [
       "<Figure size 432x288 with 2 Axes>"
      ]
     },
     "metadata": {
      "needs_background": "light"
     },
     "output_type": "display_data"
    }
   ],
   "source": [
    "confusion_df = pd.DataFrame(confusion_matrix)\n",
    "labels = ['True Neg', 'False Pos', 'False Neg', 'True Pos']\n",
    "labels = np.asarray(labels).reshape(2,2)\n",
    "sns.heatmap(confusion_df, \n",
    "            annot=labels, \n",
    "            fmt='',\n",
    "            annot_kws={\"size\": 20},\n",
    "            cmap='Blues'\n",
    "           )\n",
    "plt.show()"
   ]
  },
  {
   "cell_type": "code",
   "execution_count": null,
   "metadata": {},
   "outputs": [],
   "source": []
  }
 ],
 "metadata": {
  "kernelspec": {
   "display_name": "Python 3",
   "language": "python",
   "name": "python3"
  },
  "language_info": {
   "codemirror_mode": {
    "name": "ipython",
    "version": 3
   },
   "file_extension": ".py",
   "mimetype": "text/x-python",
   "name": "python",
   "nbconvert_exporter": "python",
   "pygments_lexer": "ipython3",
   "version": "3.7.4"
  }
 },
 "nbformat": 4,
 "nbformat_minor": 2
}
